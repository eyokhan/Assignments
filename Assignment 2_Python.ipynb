{
 "cells": [
  {
   "cell_type": "markdown",
   "metadata": {},
   "source": [
    "# Task 1: \n",
    "## 1.1\n",
    "## Write a Python Program to implement your own myreduce() function which works exactly like Python's built-in function reduce()"
   ]
  },
  {
   "cell_type": "code",
   "execution_count": 173,
   "metadata": {},
   "outputs": [
    {
     "name": "stdout",
     "output_type": "stream",
     "text": [
      "Sum on tuple ('a','b','c') using custom reduce function: abc\n"
     ]
    }
   ],
   "source": [
    "# Reduce will produce a single result\n",
    "\n",
    "def myreduce(anyfunc, sequence):\n",
    "\n",
    "# Get first item in sequence and assign to result\n",
    "    \n",
    "    result = sequence[0]\n",
    "\n",
    "# iterate over remaining items in sequence and apply reduction function \n",
    "    \n",
    "    for item in sequence[1:]:\n",
    "        \n",
    "        result = anyfunc(result, item)\n",
    "        \n",
    "    return result\n",
    "\n",
    "# test myreduce function\n",
    "\n",
    "def sum(x,y):\n",
    "    \n",
    "    return x + y\n",
    "\n",
    "print (\"Sum on tuple ('a','b','c') using custom reduce function: \"   + str(myreduce(sum, ('a','b','c'))))"
   ]
  },
  {
   "cell_type": "markdown",
   "metadata": {},
   "source": [
    "## 1.2\n",
    "\n",
    "## Write a Python program to implement your own myfilter() function which works exactly like Python's built-in function filter()"
   ]
  },
  {
   "cell_type": "code",
   "execution_count": 174,
   "metadata": {},
   "outputs": [
    {
     "name": "stdout",
     "output_type": "stream",
     "text": [
      "Filter only positive Integers on list [-5,-9,-7,0,3,5,7,9,100] using custom filter function: [3, 5, 7, 9, 100]\n"
     ]
    }
   ],
   "source": [
    "def myfilter(anyfunc, sequence):\n",
    "\n",
    "# Initialize empty list\n",
    "    \n",
    "    result = []\n",
    "\n",
    "# iterate over sequence of items in sequence and apply filter function\n",
    "    \n",
    "    for item in sequence:\n",
    "        \n",
    "        if anyfunc(item):\n",
    "            \n",
    "            result.append(item)\n",
    "\n",
    "# return final output\n",
    "\n",
    "    return result\n",
    "\n",
    "# test myfilter function\n",
    "\n",
    "def ispositive(x):\n",
    "    \n",
    "    if (x <= 0): \n",
    "        \n",
    "        return False\n",
    "    \n",
    "    else: \n",
    "        \n",
    "        return True\n",
    "\n",
    "print(\"Filter only positive Integers on list [-5,-9,-7,0,3,5,7,9,100] using custom filter function: \"  + \n",
    "                                                            str(myfilter(ispositive, [-5,-9,-7,0,3,5,7,9,100])))"
   ]
  },
  {
   "cell_type": "markdown",
   "metadata": {},
   "source": [
    "# 2.\n",
    "## Implement List comprehensions to produce the following lists. Write List comprehensions to produce the following Lists\n",
    "### ['A', 'C', 'A', 'D', 'G', 'I', ’L’, ‘ D’]\n",
    "### ['x', 'xx', 'xxx', 'xxxx', 'y', 'yy', 'yyy', 'yyyy', 'z', 'zz', 'zzz', 'zzzz']\n",
    "### ['x', 'y', 'z', 'xx', 'yy', 'zz', 'xxx', 'yyy', 'zzz', 'xxxx', 'yyyy', 'zzzz']\n",
    "### [[2], [3], [4], [3], [4], [5], [4], [5], [6]]\n",
    "### [[2, 3, 4, 5], [3, 4, 5, 6], [4, 5, 6, 7], [5, 6, 7, 8]]\n",
    "### [(1, 1), (2, 1), (3, 1), (1, 2), (2, 2), (3, 2), (1, 3), (2, 3), (3, 3)]"
   ]
  },
  {
   "cell_type": "code",
   "execution_count": 175,
   "metadata": {},
   "outputs": [
    {
     "name": "stdout",
     "output_type": "stream",
     "text": [
      "Alphabets in the word 'ACADGILD' are: ['A', 'C', 'A', 'D', 'G', 'I', 'L', 'D']\n",
      "Required output for the given input list ['x','y','z'] is : ['x', 'xx', 'xxx', 'xxxx', 'y', 'yy', 'yyy', 'yyyy', 'z', 'zz', 'zzz', 'zzzz']\n",
      "Required output for the given input list ['x','y','z'] is : ['x', 'y', 'z', 'xx', 'yy', 'zz', 'xxx', 'yyy', 'zzz', 'xxxx', 'yyyy', 'zzzz']\n",
      "Required output for the given input list [2,3,4] is : [[2], [3], [4], [3], [4], [5], [4], [5], [6]]\n",
      "Required output for the given input list [2,3,4,5] is : [[2, 3, 4, 5], [3, 4, 5, 6], [4, 5, 6, 7], [5, 6, 7, 8]]\n",
      "Required output for the given input list [1,2,3] is : [(1, 1), (2, 1), (3, 1), (1, 2), (2, 2), (3, 2), (1, 3), (2, 3), (3, 3)]\n"
     ]
    }
   ],
   "source": [
    "###################\n",
    "\n",
    "word = 'ACADGILD'\n",
    "\n",
    "alphabet_list = [alphabet for alphabet in word]\n",
    "\n",
    "print(\"Alphabets in the word 'ACADGILD' are: \" + str(alphabet_list))\n",
    "\n",
    "###################\n",
    "\n",
    "input_list = ['x','y','z']\n",
    "\n",
    "required_list = [item*num for item in input_list for num in range(1,5)]\n",
    "\n",
    "print(\"Required output for the given input list ['x','y','z'] is : \" + str(required_list))\n",
    "\n",
    "###################\n",
    "\n",
    "input_list = ['x','y','z']\n",
    "\n",
    "required_list = [item*num for item in range(1,5) for num in input_list]\n",
    "\n",
    "print(\"Required output for the given input list ['x','y','z'] is : \" + str(required_list))\n",
    "\n",
    "###################\n",
    "\n",
    "input_list = [2,3,4]\n",
    "\n",
    "required_output = [ [item+num] for item in input_list for num in range(0,3)]\n",
    "\n",
    "print(\"Required output for the given input list [2,3,4] is : \" + str(required_output))\n",
    "\n",
    "###################\n",
    "\n",
    "input_list = [2,3,4,5]\n",
    "\n",
    "required_output = [[item+num for item in input_list] for num in range(0,4)]\n",
    "\n",
    "print(\"Required output for the given input list [2,3,4,5] is : \" + str(required_output))\n",
    "\n",
    "###################\n",
    "\n",
    "input_list = [1,2,3]\n",
    "\n",
    "required_output = [(b,a) for a in input_list for b in input_list]\n",
    "\n",
    "print(\"Required output for the given input list [1,2,3] is : \" + str(required_output))"
   ]
  },
  {
   "cell_type": "markdown",
   "metadata": {},
   "source": [
    "# 3.\n",
    "## Implement a function longestWord() that takes a list of words and returns the longest one."
   ]
  },
  {
   "cell_type": "code",
   "execution_count": 176,
   "metadata": {},
   "outputs": [
    {
     "name": "stdout",
     "output_type": "stream",
     "text": [
      "ERICSSON\n"
     ]
    }
   ],
   "source": [
    "def find_longest_word(words_list):\n",
    "    \n",
    "    word_len = []\n",
    "    \n",
    "    for n in words_list:\n",
    "        \n",
    "        word_len.append((len(n), n))\n",
    "    \n",
    "    word_len.sort()\n",
    "    \n",
    "    return word_len[-1][1]\n",
    "\n",
    "print(find_longest_word([\"ALU\", \"ERICSSON\", \"NOKIA\", \"HUAWEI\"]))\n",
    "        "
   ]
  },
  {
   "cell_type": "markdown",
   "metadata": {},
   "source": [
    "# Task 2:\n",
    "\n",
    "## 1.1\n",
    "\n",
    "### Write a Python Program(with class concepts) to find the area of the triangle using the below formula.\n",
    "### area = (s*(s-a)*(s-b)*(s-c)) ** 0.5\n",
    "#### Function to take the length of the sides of triangle from user should be defined in the parent\n",
    "#### class and function to calculate the area should be defined in subclass."
   ]
  },
  {
   "cell_type": "code",
   "execution_count": 178,
   "metadata": {},
   "outputs": [
    {
     "name": "stdout",
     "output_type": "stream",
     "text": [
      "Please enter the first side of a triangle: 4\n",
      "Please enter the second side of a triangle: 5\n",
      "Please enter the third side of a triangle: 6\n",
      "9.921567416492215\n"
     ]
    }
   ],
   "source": [
    "import sys\n",
    "import math\n",
    " \n",
    "a = int(input('Please enter the first side of a triangle: '))\n",
    "b = int(input('Please enter the second side of a triangle: '))\n",
    "c = int(input('Please enter the third side of a triangle: '))\n",
    "class triangle():\n",
    "    \n",
    "    def __init__(self,a,b,c):\n",
    "        self.a = a\n",
    "        self.b = b\n",
    "        self.c = c\n",
    "    def area(self):\n",
    "        s=(a + b + c)/2\n",
    "        area=math.sqrt(s*(s-a)*(s-b)*(s-c))\n",
    "        return area\n",
    "    \n",
    "t = triangle(a, b, c)\n",
    "\n",
    "print(t.area())   "
   ]
  },
  {
   "cell_type": "markdown",
   "metadata": {},
   "source": [
    "# 1.2\n",
    "## Write a function filter_long_words() that takes a list of words and an integer n and returns the list of words that are longer than n."
   ]
  },
  {
   "cell_type": "code",
   "execution_count": 179,
   "metadata": {},
   "outputs": [
    {
     "name": "stdout",
     "output_type": "stream",
     "text": [
      "['ERICSSON', 'HUAWEI', 'SAMSUNG', 'Motorola']\n"
     ]
    }
   ],
   "source": [
    "def find_longest_word(words_list):\n",
    "    \n",
    "# Define a blank list\n",
    "\n",
    "    word_len = []\n",
    "\n",
    "# Define the value of n\n",
    "    \n",
    "    n=5\n",
    "    \n",
    "    for item in words_list:\n",
    "        \n",
    "        if len(item)>n:\n",
    "            \n",
    "            word_len.append((item))\n",
    "    \n",
    "    #word_len.sort()\n",
    "    \n",
    "    return word_len\n",
    "\n",
    "print(find_longest_word([\"ALU\", \"ERICSSON\", \"NOKIA\", \"HUAWEI\", \"SAMSUNG\", \"Motorola\"]))"
   ]
  },
  {
   "cell_type": "markdown",
   "metadata": {},
   "source": [
    "# 2.1\n",
    "## Write a Python program using function concept that maps list of words into a list of integers representing the lengths of the corresponding words.\n",
    "## Hint: If a list [ ab,cde,erty] is passed on to the python function output should come as [2,3,4]\n",
    "## Here 2,3 and 4 are the lengths of the words in the list."
   ]
  },
  {
   "cell_type": "code",
   "execution_count": 180,
   "metadata": {},
   "outputs": [
    {
     "name": "stdout",
     "output_type": "stream",
     "text": [
      "[3, 8, 5, 6, 7, 8]\n"
     ]
    }
   ],
   "source": [
    "def map_wordToInt(words_list):\n",
    "    \n",
    "    word_len = []\n",
    "    \n",
    "    for item in words_list:\n",
    "        \n",
    "        word_len.append(len(item))\n",
    "    \n",
    "    #word_len.sort()\n",
    "    \n",
    "    return word_len\n",
    "\n",
    "print(map_wordToInt([\"ALU\", \"ERICSSON\", \"NOKIA\", \"HUAWEI\", \"SAMSUNG\", \"Motorola\"]))"
   ]
  },
  {
   "cell_type": "markdown",
   "metadata": {},
   "source": [
    "# 2.2\n",
    "## Write a Python function which takes a character (i.e. a string of length 1) and returns True if it is a vowel, False otherwise."
   ]
  },
  {
   "cell_type": "code",
   "execution_count": 183,
   "metadata": {},
   "outputs": [
    {
     "name": "stdout",
     "output_type": "stream",
     "text": [
      "Enter Any character : L\n",
      "Is the Given input character is Vowel..?: False\n"
     ]
    }
   ],
   "source": [
    "input_char=str(input(\"Enter Any character : \"))\n",
    "\n",
    "def check_vowel(char):\n",
    "    \n",
    "# Define the list of vowels\n",
    "    \n",
    "    list_vowel=['a','e','i','o','u']\n",
    "    \n",
    "    for item in list_vowel:\n",
    "        \n",
    "        if (item.lower()==char.lower()):\n",
    "            \n",
    "            return True\n",
    "    \n",
    "    return False\n",
    "\n",
    "# Calling function to check whether character is vowel or not\n",
    "\n",
    "print(\"Is the Given input character is Vowel..?: \" + str(check_vowel(input_char)))"
   ]
  }
 ],
 "metadata": {
  "kernelspec": {
   "display_name": "Python 3",
   "language": "python",
   "name": "python3"
  },
  "language_info": {
   "codemirror_mode": {
    "name": "ipython",
    "version": 3
   },
   "file_extension": ".py",
   "mimetype": "text/x-python",
   "name": "python",
   "nbconvert_exporter": "python",
   "pygments_lexer": "ipython3",
   "version": "3.7.3"
  }
 },
 "nbformat": 4,
 "nbformat_minor": 2
}
