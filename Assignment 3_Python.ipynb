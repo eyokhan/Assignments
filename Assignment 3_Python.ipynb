{
 "cells": [
  {
   "cell_type": "markdown",
   "metadata": {},
   "source": [
    "# Task 1:\n",
    "## 1. \n",
    "## Write a function to compute 5/0 and use try/except to catch the exceptions."
   ]
  },
  {
   "cell_type": "code",
   "execution_count": 1,
   "metadata": {},
   "outputs": [
    {
     "name": "stdout",
     "output_type": "stream",
     "text": [
      "Enter the value of n: 0\n",
      "Try block won't execute as it's dividing by Zero, which will be producing an indeterminate value...!\n",
      "Final block has been executed successfully\n"
     ]
    }
   ],
   "source": [
    "def fun_divideByZero():\n",
    "    \n",
    "    n=int(input(\"Enter the value of n: \"))\n",
    "    \n",
    "#checking 5/0 inside try block. It will print the normal division output excelpt ZERO\n",
    "      \n",
    "    try:\n",
    "        \n",
    "        print(5/n)\n",
    "        \n",
    "    except:\n",
    "        \n",
    "        print(\"Try block won't execute as it's dividing by Zero, which will be producing an indeterminate value...!\")\n",
    "        \n",
    "    finally:\n",
    "        \n",
    "        print(\"Final block has been executed successfully\")\n",
    "        \n",
    "fun_divideByZero()"
   ]
  },
  {
   "cell_type": "markdown",
   "metadata": {},
   "source": [
    "## 2.\n",
    "## Implement a Python program to generate all sentences where subject is in [\"Americans\",\"Indians\"] and verb is in [\"Play\", \"watch\"] and the object is in [\"Baseball\",\"cricket\"].\n",
    "## Hint: Subject,Verb and Object should be declared in the program as shown below.\n",
    "## subjects=[\"Americans \",\"Indians\"]\n",
    "## verbs=[\"play\",\"watch\"]\n",
    "## objects=[\"Baseball\",\"Cricket\"]\n",
    "\n",
    "## Output should come as below:\n",
    "### Americans play Baseball.\n",
    "### Americans play Cricket.\n",
    "### Americans watch Baseball.\n",
    "### Americans watch Cricket.\n",
    "### Indians play Baseball.\n",
    "### Indians play Cricket.\n",
    "### Indians watch Baseball.\n",
    "### Indians watch Cricket."
   ]
  },
  {
   "cell_type": "code",
   "execution_count": 2,
   "metadata": {},
   "outputs": [
    {
     "name": "stdout",
     "output_type": "stream",
     "text": [
      "Americans play Baseball.\n",
      "Americans play Cricket.\n",
      "Americans watch Baseball.\n",
      "Americans watch Cricket.\n",
      "Indians play Baseball.\n",
      "Indians play Cricket.\n",
      "Indians watch Baseball.\n",
      "Indians watch Cricket.\n"
     ]
    }
   ],
   "source": [
    "subjects = [\"Americans\", \"Indians\"]\n",
    "verbs = [\"play\", \"watch\"]\n",
    "objects = [\"Baseball\", \"Cricket\"]\n",
    "\n",
    "for sub in subjects:\n",
    "    \n",
    "    #print (str(sub))\n",
    "    for ver in verbs:\n",
    "        \n",
    "        for obj in objects:\n",
    "            \n",
    "            print (sub, ver, obj, end='.')\n",
    "            \n",
    "            print()           "
   ]
  },
  {
   "cell_type": "markdown",
   "metadata": {},
   "source": [
    "# Task 2:\n",
    "## 1.\n",
    "## Write a function so that the columns of the output matrix are powers of the input vector. The order of the powers is determined by the increasing boolean argument. Specifically, when increasing is False, the i-th output column is the input vector raised element-wise to the power of N - i - 1."
   ]
  },
  {
   "cell_type": "code",
   "execution_count": 3,
   "metadata": {},
   "outputs": [
    {
     "data": {
      "text/plain": [
       "array([[ 1,  1,  1,  1],\n",
       "       [ 8,  4,  2,  1],\n",
       "       [27,  9,  3,  1],\n",
       "       [64, 16,  4,  1]], dtype=int32)"
      ]
     },
     "execution_count": 3,
     "metadata": {},
     "output_type": "execute_result"
    }
   ],
   "source": [
    "import numpy as np\n",
    "\n",
    "x = np.array([1,2,3,4])\n",
    "\n",
    "N = 4\n",
    "np.vander(x,N, increasing = True)\n",
    "\n",
    "np.column_stack([x**(N-i-1) for i in range(N)])"
   ]
  }
 ],
 "metadata": {
  "kernelspec": {
   "display_name": "Python 3",
   "language": "python",
   "name": "python3"
  },
  "language_info": {
   "codemirror_mode": {
    "name": "ipython",
    "version": 3
   },
   "file_extension": ".py",
   "mimetype": "text/x-python",
   "name": "python",
   "nbconvert_exporter": "python",
   "pygments_lexer": "ipython3",
   "version": "3.7.3"
  }
 },
 "nbformat": 4,
 "nbformat_minor": 2
}
