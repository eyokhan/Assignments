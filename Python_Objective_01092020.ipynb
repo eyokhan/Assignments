{
 "cells": [
  {
   "cell_type": "markdown",
   "metadata": {},
   "source": [
    "# Q1. How can we create an iterator object from a list?\n",
    "\n",
    "a) Bypassing the given list to the iter() function\n",
    "\n",
    "b) By using a for a loop.\n",
    "\n",
    "c) By using a while loop.\n",
    "\n",
    "d) You cannot create an iterable object\n",
    "\n",
    "# Ans. a) Bypassing the given list to the iter() function"
   ]
  },
  {
   "cell_type": "markdown",
   "metadata": {},
   "source": [
    "# Q2. If the function contains at least of one “yield” statement, then it becomes ______\n",
    "# Choose one\n",
    "\n",
    "a) An iterable\n",
    "\n",
    "b) a generator function\n",
    "\n",
    "c) an anonymous function\n",
    "\n",
    "d) None of the above\n",
    "\n",
    "# Ans. b) a generator function"
   ]
  },
  {
   "cell_type": "markdown",
   "metadata": {},
   "source": [
    "# Q3. What is the output of the code?\n",
    "### 1. mylist = [1, 3, 6, 10] \n",
    "### 2. a = (x**2 for x in mylist) \n",
    "### 3. print(next(a), next(a))\n",
    "\n",
    "a) 1 3\n",
    "\n",
    "b) 1 9\n",
    "\n",
    "c) 1 9 36 100\n",
    "\n",
    "d) 1\n",
    "\n",
    "# Ans. b) 1 9"
   ]
  },
  {
   "cell_type": "markdown",
   "metadata": {},
   "source": [
    "# Q4. What are the criteria that must be met to create closure in Python?\n",
    "\n",
    "a) The program Must have the function inside the function.\n",
    "\n",
    "b) The nested function must refer to the value defined in the enclosing function.\n",
    "\n",
    "c) The enclosing function must return the nested\n",
    "\n",
    "d) All of the above.\n",
    "\n",
    "# Ans. a) The program Must have the function inside the function."
   ]
  },
  {
   "cell_type": "markdown",
   "metadata": {},
   "source": [
    "# Q5. What is the output of the code?\n",
    "\n",
    "1. def Foo(n): \n",
    "\n",
    "2. def multiplier(x): \n",
    "\n",
    "3. return x * n \n",
    "\n",
    "4. return multiplier \n",
    "\n",
    "5. \n",
    "\n",
    "6. a = Foo(5) \n",
    "\n",
    "7. b = Foo(5) \n",
    "\n",
    "8. \n",
    "\n",
    "9. print(a(b(2)))\n",
    "\n",
    "a) 25.\n",
    "\n",
    "b) 100\n",
    "\n",
    "c) 10\n",
    "\n",
    "d) 50\n",
    "\n",
    "# Ans. d) 50"
   ]
  },
  {
   "cell_type": "markdown",
   "metadata": {},
   "source": [
    "# Q6. What is the output of the code?\n",
    "\n",
    "1. def make_pretty(func): \n",
    "\n",
    "2.   def inner():\n",
    "\n",
    "3.     print(\"I got decorated\")\n",
    "\n",
    "4.     func() \n",
    "\n",
    "5.   return inner \n",
    "\n",
    "6. \n",
    "\n",
    "7. def ordinary(): \n",
    "\n",
    "8.   print(\"I am ordinary\") \n",
    "\n",
    "9. \n",
    "\n",
    "10. pretty = make_pretty(ordinary) \n",
    "\n",
    "11. pretty()\n",
    "\n",
    "a) I got decorated \n",
    "\n",
    "b) I am pretty \n",
    "\n",
    "c) I got decorated \n",
    "   I am ordinary\n",
    "\n",
    "d) I am ordinary \n",
    "   I got decorated\n",
    "   \n",
    "# Ans. c) \n",
    "\n",
    "# I got decorated \n",
    "\n",
    "\n",
    "# I am ordinary"
   ]
  },
  {
   "cell_type": "markdown",
   "metadata": {},
   "source": [
    "# Q7: What is the more pythonic way to use getters and setters?\n",
    "\n",
    "a) Decorators\n",
    "\n",
    "b) Generators.\n",
    "\n",
    "c) Iterators\n",
    "\n",
    "d) @property\n",
    "\n",
    "# Ans. d) @property"
   ]
  },
  {
   "cell_type": "markdown",
   "metadata": {},
   "source": [
    "# Q8. In Python, there is a built-in function property() that returns a property      object. The property object has which of the methods?\n",
    "\n",
    "a) getter() and setter()\n",
    "\n",
    "b) getter(), setter() and delete()\n",
    "\n",
    "c) getter() and delete()\n",
    "\n",
    "d) setter() and delete()\n",
    "\n",
    "# Ans. b) getter(), setter() and delete()"
   ]
  },
  {
   "cell_type": "markdown",
   "metadata": {},
   "source": [
    "# Q9. Which of the following statement is true? \n",
    "\n",
    "a) You cannot chain multiple decorators in Python. \n",
    "\n",
    "b) Decorators don’t work with functions that take parameters. \n",
    "\n",
    "c) The @ symbol doesn’t have any use while using decorators. \n",
    "\n",
    "d) None of the above\n",
    "\n",
    "# Ans. d) None of the above"
   ]
  },
  {
   "cell_type": "markdown",
   "metadata": {},
   "source": [
    "# Q10. For the following codes, which of the following statements is true?\n",
    "\n",
    "1. def printHello(): \n",
    "\n",
    "2. print(\"Hello\") \n",
    "\n",
    "3. a = printHello()\n",
    "\n",
    "a) Print Hello() is a function, and a is a variable. None of them are objects.\n",
    "\n",
    "b) Both printHello() and the reference to the same object.\n",
    "\n",
    "c) Print Hello() and the reference to different objects.\n",
    "\n",
    "d) Syntax error! You cannot assign function\n",
    "\n",
    "# Ans. b) Both printHello() and the reference to the same object."
   ]
  },
  {
   "cell_type": "markdown",
   "metadata": {},
   "source": [
    "# Q11. What is the output of the program? \n",
    "\n",
    "1. def outerFunction(): \n",
    "\n",
    "2. global a \n",
    "\n",
    "3. a = 20 \n",
    "\n",
    "4. def innerFunction(): \n",
    "\n",
    "5. global a \n",
    "\n",
    "6. a = 30 \n",
    "\n",
    "7. print('a =', a) \n",
    "\n",
    "8. a = 10 \n",
    "\n",
    "9. outerFunction() \n",
    "\n",
    "10. print('a =', a)\n",
    "\n",
    "a) a = 10 a = 30\n",
    "\n",
    "b) a = 10\n",
    "\n",
    "c) a = 20\n",
    "\n",
    "d) a = 30\n",
    "\n",
    "# Ans. c) a = 20"
   ]
  },
  {
   "cell_type": "markdown",
   "metadata": {},
   "source": [
    "# Q12. Which of the following statements is true?\n",
    "\n",
    "a) A class is a blueprint for the object.\n",
    "\n",
    "b) You can only make the single object from the given class\n",
    "\n",
    "c) Both statements are true.\n",
    "\n",
    "d) Neither statement is true.\n",
    "\n",
    "# Ans. a) A class is a blueprint for the object."
   ]
  },
  {
   "cell_type": "markdown",
   "metadata": {},
   "source": [
    "# Q13. What is the output of the code?\n",
    "\n",
    "1. class Foo: \n",
    "\n",
    "2. def printLine(self, line='Python'): \n",
    "\n",
    "3. print(line) \n",
    "\n",
    "4. \n",
    "\n",
    "5. o1 = Foo() 6. o1.printLine('Java')\n",
    "\n",
    "a) Python\n",
    "\n",
    "b) Line\n",
    "\n",
    "c) Java\n",
    "\n",
    "d) Java Python\n",
    "\n",
    "# Ans. c) Java"
   ]
  },
  {
   "cell_type": "markdown",
   "metadata": {},
   "source": [
    "# Q14. What is the function of the __init__() function in Python?\n",
    "\n",
    "a) Initialises the class for use.\n",
    "\n",
    "b) This function is called, when the new object is instantiated\n",
    "\n",
    "c) Initialises all the data attributes to zero when called\n",
    "\n",
    "d) None of the above.\n",
    "\n",
    "# Ans. b) This function is called, when the new object is instantiated"
   ]
  },
  {
   "cell_type": "markdown",
   "metadata": {},
   "source": [
    "# Q15. What is the output of the code?\n",
    "\n",
    "1. class Point: \n",
    "\n",
    "2. def __init__(self, x = 0, y = 0): \n",
    "\n",
    "3. self.x = x+1 \n",
    "\n",
    "4. self.y = y+1 \n",
    "\n",
    "5. \n",
    "\n",
    "6. p1 = Point() \n",
    "\n",
    "7. print(p1.x, p1.y)\n",
    "\n",
    "a) 0 0\n",
    "\n",
    "b) 1 1\n",
    "\n",
    "c) None None\n",
    "\n",
    "d) x y\n",
    "\n",
    "# Ans. b) 1 1"
   ]
  },
  {
   "cell_type": "markdown",
   "metadata": {},
   "source": [
    "# Q16. Which of the following code used the inheritance feature? \n",
    "\n",
    "a) \n",
    "\n",
    "Class Foo: \n",
    "\n",
    "    Pass \n",
    "\n",
    "b) \n",
    "\n",
    "class Foo(object):\n",
    "\n",
    "    pass \n",
    "   \n",
    "class Hoo(object): \n",
    "   \n",
    "    pass \n",
    "   \n",
    "c) \n",
    "\n",
    "class Foo:\n",
    "\n",
    "    pass\n",
    "    \n",
    "class Hoo(Foo): \n",
    "\n",
    "    pass\n",
    "\n",
    "d) None of the above code.\n",
    "\n",
    "# Ans. c) \n",
    "\n",
    "class Foo:\n",
    "\n",
    "    pass\n",
    "    \n",
    "class Hoo(Foo): \n",
    "\n",
    "    pass"
   ]
  },
  {
   "cell_type": "markdown",
   "metadata": {},
   "source": [
    "# Q17 If you a class is derived from two different classes, it’s called ______\n",
    "\n",
    "a) Multilevel inheritance\n",
    "\n",
    "b) Multiple Inheritance\n",
    "\n",
    "c) Hierarchical Inheritance\n",
    "\n",
    "d) Python Inheritance\n",
    "\n",
    "# Ans. b) Multiple Inheritance"
   ]
  },
  {
   "cell_type": "markdown",
   "metadata": {},
   "source": [
    "# Q18. Which of the following statements is true?\n",
    "\n",
    "a) In Python, the same operator may behave differently depends upon the operands.\n",
    "\n",
    "b) You can change the way operators which behave in Python.\n",
    "\n",
    "c) Special method __add()__ is called when + operator\n",
    "\n",
    "d) All of the above.\n",
    "\n",
    "# Ans. d) All of the above."
   ]
  },
  {
   "cell_type": "markdown",
   "metadata": {},
   "source": [
    "# Q19. What is the output of the code? \n",
    "\n",
    "1. class Point: \n",
    "\n",
    "2. \n",
    "\n",
    "3. def __init__(self, x = 0, y = 0): \n",
    "\n",
    "4. self.x = x \n",
    "\n",
    "5. self.y = y \n",
    "\n",
    "6. \n",
    "\n",
    "7. def __sub__(self, other): \n",
    "\n",
    "8. x = self.x + other.x \n",
    "\n",
    "9. y = self.y + other.y \n",
    "\n",
    "10. return Point(x,y) \n",
    "\n",
    "11. \n",
    "\n",
    "12. p1 = Point(3, 4) \n",
    "\n",
    "13. p2 = Point(1, 2) \n",
    "\n",
    "14. result = p1-p2 \n",
    "\n",
    "15. print(result.x, result.y)\n",
    "\n",
    "a) 2 2\n",
    "\n",
    "b) 4 6\n",
    "\n",
    "c) 0 0\n",
    "\n",
    "d) 1 1\n",
    "\n",
    "# Ans. b) 4 6"
   ]
  },
  {
   "cell_type": "markdown",
   "metadata": {},
   "source": [
    "# Q20. Opening a file in ‘a’ mode\n",
    "\n",
    "a) opens a file for reading\n",
    "\n",
    "b) opens a file for writing\n",
    "\n",
    "c) opens the file for appending, at the end of file\n",
    "\n",
    "d) opens a file for exclusive creation\n",
    "\n",
    "# Ans. c) opens the file for appending, at the end of file"
   ]
  },
  {
   "cell_type": "markdown",
   "metadata": {},
   "source": [
    "# Q21. What does the following code do? f = open(\"test.txt\")\n",
    "\n",
    "a) Opens test.txt file for both reading and writing\n",
    "\n",
    "b) Opens test.txt file for reading only\n",
    "\n",
    "c) Opens test.txt file for writing only\n",
    "\n",
    "d) Opens test.txt file in god mode\n",
    "\n",
    "# Ans. b) Opens test.txt file for reading only"
   ]
  },
  {
   "cell_type": "markdown",
   "metadata": {},
   "source": [
    "# Q22. Which of the codes closes files automatically if an exception occurs?\n",
    "\n",
    "Choose one \n",
    "\n",
    "a) \n",
    "\n",
    "with open(\"test.txt\", encoding = 'utf-8') as f: \n",
    "\n",
    "### perform file operation\n",
    "\n",
    "b) \n",
    "\n",
    "try: \n",
    "\n",
    "f = open(\"test.txt\",encoding = 'utf-8') \n",
    "\n",
    "### perform file operations \n",
    "\n",
    "finally: \n",
    "\n",
    "f.close()\n",
    "\n",
    "c) None of the above\n",
    "\n",
    "d) Both of the above\n",
    "\n",
    "# Ans. d) Both of the above"
   ]
  },
  {
   "cell_type": "markdown",
   "metadata": {},
   "source": [
    "# Q23. For the following code, \n",
    "\n",
    "f = open('test.txt', 'r', encoding = 'utf-8') \n",
    "\n",
    "f.read() \n",
    "\n",
    "Which of the following statement is true\n",
    "\n",
    "a) This program reads the content of the test.txt file.\n",
    "\n",
    "b) If test.txt contains a newline, read() will return the newline as ‘\\n’.\n",
    "\n",
    "c) You can pass an integer to the read() method\n",
    "\n",
    "d) All of the above.\n",
    "\n",
    "# Ans. d) All of the above."
   ]
  },
  {
   "cell_type": "markdown",
   "metadata": {},
   "source": [
    "# Q24. What does the following code do? \n",
    "\n",
    "os.listdir()\n",
    "\n",
    "a) Prints the current working directory.\n",
    "\n",
    "b) Prints the current working directory.\n",
    "\n",
    "c) Prints all the directories and files inside the given directory\n",
    "\n",
    "d) Make a new directory\n",
    "\n",
    "# Ans. c) Prints all the directories and files inside the given directory"
   ]
  },
  {
   "cell_type": "markdown",
   "metadata": {},
   "source": [
    "# Q25. Which of the following is correct?\n",
    "\n",
    "a) An exception is an error that occurs in the runtime.\n",
    "\n",
    "b) A syntax error is also an exception.\n",
    "\n",
    "c) An exception is used to exclude a block of code in python.\n",
    "\n",
    "d) All of the above.\n",
    "\n",
    "# Ans. a) An exception is an error that occurs in the runtime."
   ]
  },
  {
   "cell_type": "markdown",
   "metadata": {},
   "source": [
    "# Q26. What will happen if we try to open the file that doesn’t exist?\n",
    "\n",
    "a) A new file is created.\n",
    "\n",
    "b) Nothing will happen.\n",
    "\n",
    "c) An exception is raised.\n",
    "\n",
    "d) None of the above\n",
    "\n",
    "# Ans. c) An exception is raised."
   ]
  },
  {
   "cell_type": "markdown",
   "metadata": {},
   "source": [
    "# Q27. What is the output of the code?\n",
    "\n",
    "number = 5.0\n",
    "\n",
    "try:\n",
    "\n",
    "    r = 10/number\n",
    "\n",
    "    print(r)\n",
    "\n",
    "except:\n",
    "\n",
    "    print(\"Oops! Error occurred.\")\n",
    "\n",
    "a) Oops! Error occurred\n",
    "\n",
    "b) 2.0\n",
    "\n",
    "c) 2.0 Oops! Error occurred.\n",
    "\n",
    "d) None object\n",
    "\n",
    "# Ans. b) 2.0"
   ]
  },
  {
   "cell_type": "markdown",
   "metadata": {},
   "source": [
    "# Q28. What does the following code do?\n",
    "\n",
    "try:\n",
    "\n",
    "###### code that can raise an error \n",
    "\n",
    "pass\n",
    "\n",
    "except (TypeError, ZeroDivisionError):\n",
    "\n",
    "    print(\"Two\")\n",
    "\n",
    "a) Prints Two if an exception occurs (doesn’t matter which exception).\n",
    "\n",
    "b) Prints Two if exception doesn’t occur.\n",
    "\n",
    "c) Prints Two if the TypeError or ZeroDivisionError exception occurs.\n",
    "\n",
    "d) Prints Two only if both TypeError and ZeroDivisionError exception occur.\n",
    "\n",
    "# Ans. c) Prints Two if the TypeError or ZeroDivisionError exception occurs."
   ]
  },
  {
   "cell_type": "markdown",
   "metadata": {},
   "source": [
    "# Q29. B"
   ]
  },
  {
   "cell_type": "markdown",
   "metadata": {},
   "source": [
    "# Q30. C"
   ]
  },
  {
   "cell_type": "markdown",
   "metadata": {},
   "source": [
    "# Q31. B"
   ]
  },
  {
   "cell_type": "markdown",
   "metadata": {},
   "source": [
    "# Q32. B"
   ]
  },
  {
   "cell_type": "markdown",
   "metadata": {},
   "source": [
    "# Q33. B"
   ]
  },
  {
   "cell_type": "markdown",
   "metadata": {},
   "source": [
    "# Q34. B"
   ]
  },
  {
   "cell_type": "markdown",
   "metadata": {},
   "source": [
    "# Q35. C"
   ]
  },
  {
   "cell_type": "markdown",
   "metadata": {},
   "source": [
    "# Q36. A"
   ]
  },
  {
   "cell_type": "markdown",
   "metadata": {},
   "source": [
    "# Q37. C"
   ]
  },
  {
   "cell_type": "markdown",
   "metadata": {},
   "source": [
    "# Q38. A"
   ]
  },
  {
   "cell_type": "markdown",
   "metadata": {},
   "source": [
    "# Q39. B"
   ]
  },
  {
   "cell_type": "markdown",
   "metadata": {},
   "source": [
    "# Q40. C"
   ]
  },
  {
   "cell_type": "markdown",
   "metadata": {},
   "source": [
    "# Q41. A"
   ]
  },
  {
   "cell_type": "markdown",
   "metadata": {},
   "source": [
    "# Q42. A"
   ]
  },
  {
   "cell_type": "markdown",
   "metadata": {},
   "source": [
    "# Q43. C"
   ]
  },
  {
   "cell_type": "markdown",
   "metadata": {},
   "source": [
    "# Q44. B"
   ]
  },
  {
   "cell_type": "markdown",
   "metadata": {},
   "source": [
    "# Q45. C"
   ]
  },
  {
   "cell_type": "markdown",
   "metadata": {},
   "source": [
    "# Q46. B"
   ]
  },
  {
   "cell_type": "markdown",
   "metadata": {},
   "source": [
    "# Q47. D"
   ]
  },
  {
   "cell_type": "markdown",
   "metadata": {},
   "source": [
    "# Q48. A"
   ]
  },
  {
   "cell_type": "markdown",
   "metadata": {},
   "source": [
    "# Q49. C"
   ]
  },
  {
   "cell_type": "markdown",
   "metadata": {},
   "source": [
    "# Q50. C"
   ]
  },
  {
   "cell_type": "markdown",
   "metadata": {},
   "source": [
    "# Q51. A"
   ]
  },
  {
   "cell_type": "markdown",
   "metadata": {},
   "source": [
    "# Q52. B"
   ]
  },
  {
   "cell_type": "markdown",
   "metadata": {},
   "source": [
    "# Q53. B"
   ]
  },
  {
   "cell_type": "markdown",
   "metadata": {},
   "source": [
    "# Q54. C"
   ]
  },
  {
   "cell_type": "markdown",
   "metadata": {},
   "source": [
    "# Q55. C"
   ]
  },
  {
   "cell_type": "markdown",
   "metadata": {},
   "source": [
    "# Q56. A"
   ]
  },
  {
   "cell_type": "markdown",
   "metadata": {},
   "source": [
    "# Q57. B"
   ]
  },
  {
   "cell_type": "markdown",
   "metadata": {},
   "source": [
    "# Q58. C"
   ]
  },
  {
   "cell_type": "markdown",
   "metadata": {},
   "source": [
    "# Q59. A"
   ]
  },
  {
   "cell_type": "markdown",
   "metadata": {},
   "source": [
    "# Q60. A"
   ]
  },
  {
   "cell_type": "markdown",
   "metadata": {},
   "source": [
    "# Q61. D"
   ]
  },
  {
   "cell_type": "markdown",
   "metadata": {},
   "source": [
    "# Q62. A"
   ]
  },
  {
   "cell_type": "markdown",
   "metadata": {},
   "source": [
    "# Q63. B"
   ]
  },
  {
   "cell_type": "markdown",
   "metadata": {},
   "source": [
    "# Q64. A"
   ]
  },
  {
   "cell_type": "markdown",
   "metadata": {},
   "source": [
    "# Q65. B"
   ]
  },
  {
   "cell_type": "markdown",
   "metadata": {},
   "source": [
    "# Q66. B"
   ]
  },
  {
   "cell_type": "markdown",
   "metadata": {},
   "source": [
    "# Q67. A"
   ]
  },
  {
   "cell_type": "markdown",
   "metadata": {},
   "source": [
    "# Q68. D"
   ]
  },
  {
   "cell_type": "markdown",
   "metadata": {},
   "source": [
    "# Q69. A"
   ]
  },
  {
   "cell_type": "markdown",
   "metadata": {},
   "source": [
    "# Q70. A"
   ]
  },
  {
   "cell_type": "markdown",
   "metadata": {},
   "source": [
    "# Q71. C"
   ]
  },
  {
   "cell_type": "markdown",
   "metadata": {},
   "source": [
    "# Q72. B"
   ]
  },
  {
   "cell_type": "markdown",
   "metadata": {},
   "source": [
    "# Q73. A"
   ]
  },
  {
   "cell_type": "markdown",
   "metadata": {},
   "source": [
    "# Q74. D"
   ]
  },
  {
   "cell_type": "markdown",
   "metadata": {},
   "source": [
    "# Q75. B"
   ]
  },
  {
   "cell_type": "markdown",
   "metadata": {},
   "source": [
    "# Q76. A"
   ]
  },
  {
   "cell_type": "markdown",
   "metadata": {},
   "source": [
    "# Q77. A"
   ]
  },
  {
   "cell_type": "markdown",
   "metadata": {},
   "source": [
    "# Q78. D"
   ]
  },
  {
   "cell_type": "markdown",
   "metadata": {},
   "source": [
    "# Q79. B"
   ]
  },
  {
   "cell_type": "markdown",
   "metadata": {},
   "source": [
    "# Q80. D"
   ]
  },
  {
   "cell_type": "markdown",
   "metadata": {},
   "source": [
    "# Q81. C"
   ]
  },
  {
   "cell_type": "markdown",
   "metadata": {},
   "source": [
    "# Q82. A"
   ]
  },
  {
   "cell_type": "markdown",
   "metadata": {},
   "source": [
    "# Q83. A"
   ]
  },
  {
   "cell_type": "markdown",
   "metadata": {},
   "source": [
    "# Q84. C"
   ]
  },
  {
   "cell_type": "markdown",
   "metadata": {},
   "source": [
    "# Q85. D"
   ]
  },
  {
   "cell_type": "markdown",
   "metadata": {},
   "source": [
    "# Q86. A"
   ]
  },
  {
   "cell_type": "markdown",
   "metadata": {},
   "source": [
    "# Q87. B"
   ]
  },
  {
   "cell_type": "markdown",
   "metadata": {},
   "source": [
    "# Q88. D"
   ]
  },
  {
   "cell_type": "markdown",
   "metadata": {},
   "source": [
    "# Q89. C"
   ]
  },
  {
   "cell_type": "markdown",
   "metadata": {},
   "source": [
    "# Q90. C"
   ]
  },
  {
   "cell_type": "markdown",
   "metadata": {},
   "source": [
    "# Q91. B"
   ]
  },
  {
   "cell_type": "markdown",
   "metadata": {},
   "source": [
    "# Q92. C"
   ]
  },
  {
   "cell_type": "markdown",
   "metadata": {},
   "source": [
    "# Q93. D"
   ]
  },
  {
   "cell_type": "markdown",
   "metadata": {},
   "source": [
    "# Q94. D"
   ]
  },
  {
   "cell_type": "markdown",
   "metadata": {},
   "source": [
    "# Q95. B"
   ]
  },
  {
   "cell_type": "markdown",
   "metadata": {},
   "source": [
    "# Q96. D"
   ]
  },
  {
   "cell_type": "markdown",
   "metadata": {},
   "source": [
    "# Q97. C"
   ]
  },
  {
   "cell_type": "markdown",
   "metadata": {},
   "source": [
    "# Q98. C"
   ]
  },
  {
   "cell_type": "markdown",
   "metadata": {},
   "source": [
    "# Q99. B"
   ]
  },
  {
   "cell_type": "markdown",
   "metadata": {},
   "source": [
    "# Q100. A"
   ]
  },
  {
   "cell_type": "markdown",
   "metadata": {},
   "source": [
    "# Q101. C"
   ]
  },
  {
   "cell_type": "markdown",
   "metadata": {},
   "source": [
    "# Q102. A"
   ]
  },
  {
   "cell_type": "markdown",
   "metadata": {},
   "source": [
    "# Q103. A"
   ]
  },
  {
   "cell_type": "markdown",
   "metadata": {},
   "source": [
    "# Q104. D"
   ]
  },
  {
   "cell_type": "markdown",
   "metadata": {},
   "source": [
    "# Q105. B"
   ]
  },
  {
   "cell_type": "markdown",
   "metadata": {},
   "source": [
    "# Q106. A"
   ]
  },
  {
   "cell_type": "markdown",
   "metadata": {},
   "source": [
    "# Q107. A"
   ]
  },
  {
   "cell_type": "markdown",
   "metadata": {},
   "source": [
    "# Q108. B"
   ]
  },
  {
   "cell_type": "markdown",
   "metadata": {},
   "source": [
    "# Q109. A"
   ]
  },
  {
   "cell_type": "markdown",
   "metadata": {},
   "source": [
    "# Q110. D"
   ]
  },
  {
   "cell_type": "markdown",
   "metadata": {},
   "source": [
    "# Q111. C"
   ]
  },
  {
   "cell_type": "markdown",
   "metadata": {},
   "source": [
    "# Q112. B"
   ]
  },
  {
   "cell_type": "markdown",
   "metadata": {},
   "source": [
    "# Q113. A"
   ]
  },
  {
   "cell_type": "markdown",
   "metadata": {},
   "source": [
    "# Q114. B"
   ]
  },
  {
   "cell_type": "markdown",
   "metadata": {},
   "source": [
    "# Q115. C"
   ]
  },
  {
   "cell_type": "markdown",
   "metadata": {},
   "source": [
    "# Q116. B"
   ]
  },
  {
   "cell_type": "markdown",
   "metadata": {},
   "source": [
    "# Q117. B"
   ]
  },
  {
   "cell_type": "markdown",
   "metadata": {},
   "source": [
    "# Q118. C"
   ]
  },
  {
   "cell_type": "markdown",
   "metadata": {},
   "source": [
    "# Q119. A"
   ]
  },
  {
   "cell_type": "markdown",
   "metadata": {},
   "source": [
    "# Q120. A"
   ]
  },
  {
   "cell_type": "markdown",
   "metadata": {},
   "source": [
    "# Q121. C"
   ]
  },
  {
   "cell_type": "markdown",
   "metadata": {},
   "source": [
    "# Q122. D"
   ]
  },
  {
   "cell_type": "markdown",
   "metadata": {},
   "source": [
    "# Q123. A"
   ]
  },
  {
   "cell_type": "markdown",
   "metadata": {},
   "source": [
    "# Q124. A"
   ]
  },
  {
   "cell_type": "markdown",
   "metadata": {},
   "source": [
    "# Q125. C"
   ]
  },
  {
   "cell_type": "markdown",
   "metadata": {},
   "source": [
    "# Q126. A"
   ]
  },
  {
   "cell_type": "markdown",
   "metadata": {},
   "source": [
    "# Q127. B"
   ]
  },
  {
   "cell_type": "markdown",
   "metadata": {},
   "source": [
    "# Q128. C"
   ]
  },
  {
   "cell_type": "markdown",
   "metadata": {},
   "source": [
    "# Q129. A"
   ]
  },
  {
   "cell_type": "markdown",
   "metadata": {},
   "source": [
    "# Q130. A"
   ]
  },
  {
   "cell_type": "markdown",
   "metadata": {},
   "source": [
    "# Q131. A"
   ]
  },
  {
   "cell_type": "markdown",
   "metadata": {},
   "source": [
    "# Q132. A"
   ]
  },
  {
   "cell_type": "markdown",
   "metadata": {},
   "source": [
    "# Q133. A"
   ]
  },
  {
   "cell_type": "markdown",
   "metadata": {},
   "source": [
    "# Q134. A"
   ]
  },
  {
   "cell_type": "markdown",
   "metadata": {},
   "source": [
    "# Q135. C"
   ]
  },
  {
   "cell_type": "markdown",
   "metadata": {},
   "source": [
    "# Q136. B"
   ]
  },
  {
   "cell_type": "markdown",
   "metadata": {},
   "source": [
    "# Q137. B"
   ]
  },
  {
   "cell_type": "markdown",
   "metadata": {},
   "source": [
    "# Q138. A"
   ]
  },
  {
   "cell_type": "markdown",
   "metadata": {},
   "source": [
    "# Q139. B"
   ]
  },
  {
   "cell_type": "markdown",
   "metadata": {},
   "source": [
    "# Q140. A"
   ]
  },
  {
   "cell_type": "markdown",
   "metadata": {},
   "source": [
    "# Q141. B"
   ]
  },
  {
   "cell_type": "markdown",
   "metadata": {},
   "source": [
    "# Q142. D"
   ]
  },
  {
   "cell_type": "markdown",
   "metadata": {},
   "source": [
    "# Q143. D"
   ]
  },
  {
   "cell_type": "markdown",
   "metadata": {},
   "source": [
    "# Q144. A"
   ]
  },
  {
   "cell_type": "markdown",
   "metadata": {},
   "source": [
    "# Q145. A"
   ]
  },
  {
   "cell_type": "markdown",
   "metadata": {},
   "source": [
    "# Q146. A"
   ]
  },
  {
   "cell_type": "markdown",
   "metadata": {},
   "source": [
    "# Q147. B"
   ]
  },
  {
   "cell_type": "markdown",
   "metadata": {},
   "source": [
    "# Q148. A"
   ]
  },
  {
   "cell_type": "markdown",
   "metadata": {},
   "source": [
    "# Q149. B"
   ]
  },
  {
   "cell_type": "markdown",
   "metadata": {},
   "source": [
    "# Q150. A"
   ]
  },
  {
   "cell_type": "markdown",
   "metadata": {},
   "source": [
    "# The End"
   ]
  },
  {
   "cell_type": "code",
   "execution_count": null,
   "metadata": {},
   "outputs": [],
   "source": []
  }
 ],
 "metadata": {
  "kernelspec": {
   "display_name": "Python 3",
   "language": "python",
   "name": "python3"
  },
  "language_info": {
   "codemirror_mode": {
    "name": "ipython",
    "version": 3
   },
   "file_extension": ".py",
   "mimetype": "text/x-python",
   "name": "python",
   "nbconvert_exporter": "python",
   "pygments_lexer": "ipython3",
   "version": "3.7.3"
  }
 },
 "nbformat": 4,
 "nbformat_minor": 2
}
